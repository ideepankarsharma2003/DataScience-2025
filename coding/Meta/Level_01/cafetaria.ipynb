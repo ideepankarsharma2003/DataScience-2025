{
 "cells": [
  {
   "cell_type": "markdown",
   "metadata": {},
   "source": [
    "# [**cafetaria**](https://www.metacareers.com/profile/coding_puzzles?puzzle=203188678289677)"
   ]
  },
  {
   "cell_type": "code",
   "execution_count": 83,
   "metadata": {},
   "outputs": [],
   "source": [
    "# O(N) ---> Brute Force\n",
    "\n",
    "from typing import List\n",
    "# Write any import statements here\n",
    "\n",
    "def getMaxAdditionalDinersCount(N: int, K: int, M: int, S: List[int]) -> int:\n",
    "  # Write your code here\n",
    "  # N ----> num of seats\n",
    "  # M -----> num of diners \n",
    "  \n",
    "  # ----K seats----<diner>-----K seats----\n",
    "  \n",
    "  \n",
    "  '''\n",
    "  N = 10\n",
    "  K = 1\n",
    "  M = 2\n",
    "  S = [2, 6]\n",
    "  \n",
    "  _ * _ _ _ * _ _ _ _ \n",
    "  _ * _ | _ * _ | _ | \n",
    "  \n",
    "  '''\n",
    "  \n",
    "  result= 0\n",
    "  \n",
    "  solution= [False]* N\n",
    "  for i in S:\n",
    "    solution[i-1]= True\n",
    "  \n",
    "  def can_sit(i):\n",
    "    left_seats= solution[max(i-K, 0): i] # because negative indexing will take us to right side\n",
    "    \n",
    "    right_seats= solution[i+1: i+K+1]\n",
    "    seats= left_seats+[\"<candidate_seat>\"]+right_seats\n",
    "    print(f\"seat {i+1},  seats: {seats}\")\n",
    "    if seats and seats.count(True)==0:\n",
    "      return True\n",
    "    return False\n",
    "  \n",
    "  for i in range(N):\n",
    "    if solution[i]:\n",
    "      continue\n",
    "\n",
    "    if can_sit(i):\n",
    "      solution[i]= True\n",
    "      result+=1\n",
    "      print(f\"\\nsit at seat: {i+1} ....\\n\")\n",
    "\n",
    "    \n",
    "    \n",
    "  \n",
    "  \n",
    "  \n",
    "  return result\n"
   ]
  },
  {
   "cell_type": "code",
   "execution_count": 84,
   "metadata": {},
   "outputs": [
    {
     "name": "stdout",
     "output_type": "stream",
     "text": [
      "seat 1,  seats: ['<candidate_seat>', True]\n",
      "seat 3,  seats: [True, '<candidate_seat>', False]\n",
      "seat 4,  seats: [False, '<candidate_seat>', False]\n",
      "\n",
      "sit at seat: 4 ....\n",
      "\n",
      "seat 5,  seats: [True, '<candidate_seat>', True]\n",
      "seat 7,  seats: [True, '<candidate_seat>', False]\n",
      "seat 8,  seats: [False, '<candidate_seat>', False]\n",
      "\n",
      "sit at seat: 8 ....\n",
      "\n",
      "seat 9,  seats: [True, '<candidate_seat>', False]\n",
      "seat 10,  seats: [False, '<candidate_seat>']\n",
      "\n",
      "sit at seat: 10 ....\n",
      "\n"
     ]
    },
    {
     "data": {
      "text/plain": [
       "3"
      ]
     },
     "execution_count": 84,
     "metadata": {},
     "output_type": "execute_result"
    }
   ],
   "source": [
    "N = 10\n",
    "K = 1\n",
    "M = 2\n",
    "S = [2, 6]\n",
    "\n",
    "getMaxAdditionalDinersCount(N, K, M, S)"
   ]
  },
  {
   "cell_type": "code",
   "execution_count": 85,
   "metadata": {},
   "outputs": [
    {
     "name": "stdout",
     "output_type": "stream",
     "text": [
      "seat 1,  seats: ['<candidate_seat>', False, False]\n",
      "\n",
      "sit at seat: 1 ....\n",
      "\n",
      "seat 2,  seats: [True, '<candidate_seat>', False, False]\n",
      "seat 3,  seats: [True, False, '<candidate_seat>', False, False]\n",
      "seat 4,  seats: [False, False, '<candidate_seat>', False, True]\n",
      "seat 5,  seats: [False, False, '<candidate_seat>', True, False]\n",
      "seat 7,  seats: [False, True, '<candidate_seat>', False, False]\n",
      "seat 8,  seats: [True, False, '<candidate_seat>', False, False]\n",
      "seat 9,  seats: [False, False, '<candidate_seat>', False, True]\n",
      "seat 10,  seats: [False, False, '<candidate_seat>', True, False]\n",
      "seat 12,  seats: [False, True, '<candidate_seat>', False, True]\n",
      "seat 13,  seats: [True, False, '<candidate_seat>', True, False]\n",
      "seat 15,  seats: [False, True, '<candidate_seat>']\n"
     ]
    },
    {
     "data": {
      "text/plain": [
       "1"
      ]
     },
     "execution_count": 85,
     "metadata": {},
     "output_type": "execute_result"
    }
   ],
   "source": [
    "N = 15\n",
    "K = 2\n",
    "M = 3\n",
    "S = [11, 6, 14]\n",
    "\n",
    "getMaxAdditionalDinersCount(N, K, M, S)\n"
   ]
  },
  {
   "cell_type": "code",
   "execution_count": 86,
   "metadata": {},
   "outputs": [
    {
     "name": "stdout",
     "output_type": "stream",
     "text": [
      "seat 1,  seats: ['<candidate_seat>']\n",
      "\n",
      "sit at seat: 1 ....\n",
      "\n"
     ]
    },
    {
     "data": {
      "text/plain": [
       "1"
      ]
     },
     "execution_count": 86,
     "metadata": {},
     "output_type": "execute_result"
    }
   ],
   "source": [
    "N = 1\n",
    "K = 0\n",
    "M = 0\n",
    "S = []\n",
    "getMaxAdditionalDinersCount(N, K, M, S)\n"
   ]
  },
  {
   "cell_type": "code",
   "execution_count": 87,
   "metadata": {},
   "outputs": [
    {
     "name": "stdout",
     "output_type": "stream",
     "text": [
      "seat 2,  seats: [True, '<candidate_seat>', False, False]\n",
      "seat 3,  seats: [True, False, '<candidate_seat>', False, False]\n",
      "seat 4,  seats: [False, False, '<candidate_seat>', False, False]\n",
      "\n",
      "sit at seat: 4 ....\n",
      "\n",
      "seat 5,  seats: [False, True, '<candidate_seat>', False, False]\n",
      "seat 6,  seats: [True, False, '<candidate_seat>', False, False]\n",
      "seat 7,  seats: [False, False, '<candidate_seat>', False, False]\n",
      "\n",
      "sit at seat: 7 ....\n",
      "\n",
      "seat 8,  seats: [False, True, '<candidate_seat>', False, False]\n",
      "seat 9,  seats: [True, False, '<candidate_seat>', False]\n",
      "seat 10,  seats: [False, False, '<candidate_seat>']\n",
      "\n",
      "sit at seat: 10 ....\n",
      "\n"
     ]
    },
    {
     "data": {
      "text/plain": [
       "3"
      ]
     },
     "execution_count": 87,
     "metadata": {},
     "output_type": "execute_result"
    }
   ],
   "source": [
    "N = 10\n",
    "K = 2\n",
    "M = 1\n",
    "S = [1]  # Diner at the first seat\n",
    "\n",
    "\n",
    "getMaxAdditionalDinersCount(N, K, M, S)\n"
   ]
  },
  {
   "cell_type": "code",
   "execution_count": 88,
   "metadata": {},
   "outputs": [
    {
     "name": "stdout",
     "output_type": "stream",
     "text": [
      "seat 1,  seats: ['<candidate_seat>', True, False, False]\n",
      "seat 3,  seats: [False, True, '<candidate_seat>', False, False, False]\n",
      "seat 4,  seats: [False, True, False, '<candidate_seat>', False, False, False]\n",
      "seat 5,  seats: [True, False, False, '<candidate_seat>', False, False, False]\n",
      "seat 6,  seats: [False, False, False, '<candidate_seat>', False, False, False]\n",
      "\n",
      "sit at seat: 6 ....\n",
      "\n",
      "seat 7,  seats: [False, False, True, '<candidate_seat>', False, False, True]\n",
      "seat 8,  seats: [False, True, False, '<candidate_seat>', False, True, False]\n",
      "seat 9,  seats: [True, False, False, '<candidate_seat>', True, False, False]\n",
      "seat 11,  seats: [False, False, True, '<candidate_seat>', False, False, False]\n",
      "seat 12,  seats: [False, True, False, '<candidate_seat>', False, False, False]\n",
      "seat 13,  seats: [True, False, False, '<candidate_seat>', False, False, False]\n",
      "seat 14,  seats: [False, False, False, '<candidate_seat>', False, False, False]\n",
      "\n",
      "sit at seat: 14 ....\n",
      "\n",
      "seat 15,  seats: [False, False, True, '<candidate_seat>', False, False, True]\n",
      "seat 16,  seats: [False, True, False, '<candidate_seat>', False, True, False]\n",
      "seat 17,  seats: [True, False, False, '<candidate_seat>', True, False, False]\n",
      "seat 19,  seats: [False, False, True, '<candidate_seat>', False]\n",
      "seat 20,  seats: [False, True, False, '<candidate_seat>']\n"
     ]
    },
    {
     "data": {
      "text/plain": [
       "2"
      ]
     },
     "execution_count": 88,
     "metadata": {},
     "output_type": "execute_result"
    }
   ],
   "source": [
    "N = 20\n",
    "K = 3\n",
    "M = 3\n",
    "S = [2, 10, 18]\n",
    "\n",
    "getMaxAdditionalDinersCount(N, K, M, S)\n"
   ]
  },
  {
   "cell_type": "markdown",
   "metadata": {},
   "source": [
    "## Optimizations "
   ]
  },
  {
   "cell_type": "code",
   "execution_count": 89,
   "metadata": {},
   "outputs": [],
   "source": [
    "# M log M\n",
    "\n",
    "from typing import List\n",
    "\n",
    "def getMaxAdditionalDinersCount(N: int, K: int, M: int, S: List[int]) -> int:\n",
    "    '''\n",
    "    Seats:  _ * _ _ _ * _ _ _ _\n",
    "          1 2 3 4 5 6 7 8 9 10\n",
    "          \n",
    "    Before 2: 1 seat available  → (1 // (1+1)) = 0\n",
    "    Between 2 & 6: 3 seats available → (3-1) // (1+1) = 1\n",
    "    After 6: 4 seats available → (4 // (1+1)) = 2\n",
    "    Total additional diners: 0 + 1 + 2 = 3\n",
    "\n",
    "    '''\n",
    "\n",
    "    # Sort occupied seats\n",
    "    S.sort() # O(M log M)\n",
    "    \n",
    "    # Track additional diners\n",
    "    result = 0\n",
    "    \n",
    "    # 1️⃣ Consider the seats before the first occupied seat\n",
    "    first_seats = S[0] - 1  # Available seats before first diner\n",
    "    result += first_seats // (K + 1)\n",
    "    \n",
    "    # 2️⃣ Consider seatss between occupied seats\n",
    "    for i in range(1, M): # O(M)\n",
    "        seats = S[i] - S[i - 1] - 1  # Seats between two occupied ones\n",
    "        seats-=K # because theres a diner on seat S[i-1] , so social distancing\n",
    "        result+= seats//(K+1)\n",
    "    \n",
    "    # 3️⃣ Consider the seats after the last occupied seat\n",
    "    last_seats = N - S[-1]  # Available seats after the last diner\n",
    "    result += last_seats // (K + 1)\n",
    "    \n",
    "    return result\n"
   ]
  },
  {
   "cell_type": "code",
   "execution_count": 90,
   "metadata": {},
   "outputs": [
    {
     "name": "stdout",
     "output_type": "stream",
     "text": [
      "3\n"
     ]
    }
   ],
   "source": [
    "N = 10\n",
    "K = 1\n",
    "M = 2\n",
    "S = [2, 6]\n",
    "print(getMaxAdditionalDinersCount(N, K, M, S))  # Output: 3\n"
   ]
  },
  {
   "cell_type": "code",
   "execution_count": null,
   "metadata": {},
   "outputs": [],
   "source": []
  }
 ],
 "metadata": {
  "kernelspec": {
   "display_name": "Python 3",
   "language": "python",
   "name": "python3"
  },
  "language_info": {
   "codemirror_mode": {
    "name": "ipython",
    "version": 3
   },
   "file_extension": ".py",
   "mimetype": "text/x-python",
   "name": "python",
   "nbconvert_exporter": "python",
   "pygments_lexer": "ipython3",
   "version": "3.12.1"
  }
 },
 "nbformat": 4,
 "nbformat_minor": 2
}
