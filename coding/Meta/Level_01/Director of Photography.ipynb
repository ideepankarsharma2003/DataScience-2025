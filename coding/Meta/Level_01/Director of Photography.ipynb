{
 "cells": [
  {
   "cell_type": "markdown",
   "metadata": {},
   "source": [
    "# [**Director of Photography**](https://www.metacareers.com/profile/coding_puzzles?puzzle=870874083549040)"
   ]
  },
  {
   "cell_type": "code",
   "execution_count": null,
   "metadata": {},
   "outputs": [],
   "source": [
    "# Write any import statements here\n",
    "\n",
    "def getArtisticPhotographCount(N: int, C: str, X: int, Y: int) -> int:\n",
    "  # Write your code here\n",
    "  # N ---> num cells in row\n",
    "  # C_i ----> cell i\n",
    "  \n",
    "  # artistic photo --> PAB\n",
    "  def is_artistic(i, j, k) -> bool:\n",
    "    pass\n",
    "\n",
    "  return result\n",
    "\n"
   ]
  },
  {
   "cell_type": "code",
   "execution_count": 3,
   "metadata": {},
   "outputs": [
    {
     "data": {
      "text/plain": [
       "0"
      ]
     },
     "execution_count": 3,
     "metadata": {},
     "output_type": "execute_result"
    }
   ],
   "source": [
    "N = 5\n",
    "C = 'APABA'\n",
    "X = 1\n",
    "Y = 2\n",
    "\n",
    "\n",
    "\n",
    "getArtisticPhotographCount(N, C, X, Y)"
   ]
  },
  {
   "cell_type": "code",
   "execution_count": null,
   "metadata": {},
   "outputs": [],
   "source": [
    "N = 5\n",
    "C = 'APABA'\n",
    "X = 2\n",
    "Y = 3"
   ]
  },
  {
   "cell_type": "code",
   "execution_count": null,
   "metadata": {},
   "outputs": [],
   "source": [
    "N = 8\n",
    "C = '.PBAAP.B'\n",
    "X = 1\n",
    "Y = 3"
   ]
  }
 ],
 "metadata": {
  "kernelspec": {
   "display_name": "Python 3",
   "language": "python",
   "name": "python3"
  },
  "language_info": {
   "codemirror_mode": {
    "name": "ipython",
    "version": 3
   },
   "file_extension": ".py",
   "mimetype": "text/x-python",
   "name": "python",
   "nbconvert_exporter": "python",
   "pygments_lexer": "ipython3",
   "version": "3.12.2"
  }
 },
 "nbformat": 4,
 "nbformat_minor": 2
}
